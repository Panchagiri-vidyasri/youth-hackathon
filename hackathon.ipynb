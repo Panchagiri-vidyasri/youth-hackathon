{
  "nbformat": 4,
  "nbformat_minor": 0,
  "metadata": {
    "colab": {
      "provenance": []
    },
    "kernelspec": {
      "name": "python3",
      "display_name": "Python 3"
    },
    "language_info": {
      "name": "python"
    },
    "widgets": {
      "application/vnd.jupyter.widget-state+json": {
        "035172c3959d4dc0aafab270af4c81eb": {
          "model_module": "@jupyter-widgets/controls",
          "model_name": "FloatTextModel",
          "model_module_version": "1.5.0",
          "state": {
            "_dom_classes": [],
            "_model_module": "@jupyter-widgets/controls",
            "_model_module_version": "1.5.0",
            "_model_name": "FloatTextModel",
            "_view_count": null,
            "_view_module": "@jupyter-widgets/controls",
            "_view_module_version": "1.5.0",
            "_view_name": "FloatTextView",
            "continuous_update": false,
            "description": "Ticker",
            "description_tooltip": null,
            "disabled": false,
            "layout": "IPY_MODEL_99e0e6bd0537470aa176fed5d1396ccd",
            "step": null,
            "style": "IPY_MODEL_bba7a2022ed8414e87418d6c33ff897d",
            "value": 0
          }
        },
        "99e0e6bd0537470aa176fed5d1396ccd": {
          "model_module": "@jupyter-widgets/base",
          "model_name": "LayoutModel",
          "model_module_version": "1.2.0",
          "state": {
            "_model_module": "@jupyter-widgets/base",
            "_model_module_version": "1.2.0",
            "_model_name": "LayoutModel",
            "_view_count": null,
            "_view_module": "@jupyter-widgets/base",
            "_view_module_version": "1.2.0",
            "_view_name": "LayoutView",
            "align_content": null,
            "align_items": null,
            "align_self": null,
            "border": null,
            "bottom": null,
            "display": null,
            "flex": null,
            "flex_flow": null,
            "grid_area": null,
            "grid_auto_columns": null,
            "grid_auto_flow": null,
            "grid_auto_rows": null,
            "grid_column": null,
            "grid_gap": null,
            "grid_row": null,
            "grid_template_areas": null,
            "grid_template_columns": null,
            "grid_template_rows": null,
            "height": null,
            "justify_content": null,
            "justify_items": null,
            "left": null,
            "margin": null,
            "max_height": null,
            "max_width": null,
            "min_height": null,
            "min_width": null,
            "object_fit": null,
            "object_position": null,
            "order": null,
            "overflow": null,
            "overflow_x": null,
            "overflow_y": null,
            "padding": null,
            "right": null,
            "top": null,
            "visibility": null,
            "width": "50%"
          }
        },
        "bba7a2022ed8414e87418d6c33ff897d": {
          "model_module": "@jupyter-widgets/controls",
          "model_name": "DescriptionStyleModel",
          "model_module_version": "1.5.0",
          "state": {
            "_model_module": "@jupyter-widgets/controls",
            "_model_module_version": "1.5.0",
            "_model_name": "DescriptionStyleModel",
            "_view_count": null,
            "_view_module": "@jupyter-widgets/base",
            "_view_module_version": "1.2.0",
            "_view_name": "StyleView",
            "description_width": ""
          }
        },
        "965e7bbf575441899e392e6f6595f50c": {
          "model_module": "@jupyter-widgets/controls",
          "model_name": "FloatTextModel",
          "model_module_version": "1.5.0",
          "state": {
            "_dom_classes": [],
            "_model_module": "@jupyter-widgets/controls",
            "_model_module_version": "1.5.0",
            "_model_name": "FloatTextModel",
            "_view_count": null,
            "_view_module": "@jupyter-widgets/controls",
            "_view_module_version": "1.5.0",
            "_view_name": "FloatTextView",
            "continuous_update": false,
            "description": "Open",
            "description_tooltip": null,
            "disabled": false,
            "layout": "IPY_MODEL_20484090c84a40b1b6eed87856b4168c",
            "step": null,
            "style": "IPY_MODEL_73240ac3d3d84303891a69865eccf06d",
            "value": 0
          }
        },
        "20484090c84a40b1b6eed87856b4168c": {
          "model_module": "@jupyter-widgets/base",
          "model_name": "LayoutModel",
          "model_module_version": "1.2.0",
          "state": {
            "_model_module": "@jupyter-widgets/base",
            "_model_module_version": "1.2.0",
            "_model_name": "LayoutModel",
            "_view_count": null,
            "_view_module": "@jupyter-widgets/base",
            "_view_module_version": "1.2.0",
            "_view_name": "LayoutView",
            "align_content": null,
            "align_items": null,
            "align_self": null,
            "border": null,
            "bottom": null,
            "display": null,
            "flex": null,
            "flex_flow": null,
            "grid_area": null,
            "grid_auto_columns": null,
            "grid_auto_flow": null,
            "grid_auto_rows": null,
            "grid_column": null,
            "grid_gap": null,
            "grid_row": null,
            "grid_template_areas": null,
            "grid_template_columns": null,
            "grid_template_rows": null,
            "height": null,
            "justify_content": null,
            "justify_items": null,
            "left": null,
            "margin": null,
            "max_height": null,
            "max_width": null,
            "min_height": null,
            "min_width": null,
            "object_fit": null,
            "object_position": null,
            "order": null,
            "overflow": null,
            "overflow_x": null,
            "overflow_y": null,
            "padding": null,
            "right": null,
            "top": null,
            "visibility": null,
            "width": "50%"
          }
        },
        "73240ac3d3d84303891a69865eccf06d": {
          "model_module": "@jupyter-widgets/controls",
          "model_name": "DescriptionStyleModel",
          "model_module_version": "1.5.0",
          "state": {
            "_model_module": "@jupyter-widgets/controls",
            "_model_module_version": "1.5.0",
            "_model_name": "DescriptionStyleModel",
            "_view_count": null,
            "_view_module": "@jupyter-widgets/base",
            "_view_module_version": "1.2.0",
            "_view_name": "StyleView",
            "description_width": ""
          }
        },
        "4e31d81cede84590beeddfbd6ad4c5c5": {
          "model_module": "@jupyter-widgets/controls",
          "model_name": "FloatTextModel",
          "model_module_version": "1.5.0",
          "state": {
            "_dom_classes": [],
            "_model_module": "@jupyter-widgets/controls",
            "_model_module_version": "1.5.0",
            "_model_name": "FloatTextModel",
            "_view_count": null,
            "_view_module": "@jupyter-widgets/controls",
            "_view_module_version": "1.5.0",
            "_view_name": "FloatTextView",
            "continuous_update": false,
            "description": "High",
            "description_tooltip": null,
            "disabled": false,
            "layout": "IPY_MODEL_f7c50bd1120b45129eb50e884f5be5b1",
            "step": null,
            "style": "IPY_MODEL_4a0f5f6b6c0f4b01a7b231aa31e9831b",
            "value": 0
          }
        },
        "f7c50bd1120b45129eb50e884f5be5b1": {
          "model_module": "@jupyter-widgets/base",
          "model_name": "LayoutModel",
          "model_module_version": "1.2.0",
          "state": {
            "_model_module": "@jupyter-widgets/base",
            "_model_module_version": "1.2.0",
            "_model_name": "LayoutModel",
            "_view_count": null,
            "_view_module": "@jupyter-widgets/base",
            "_view_module_version": "1.2.0",
            "_view_name": "LayoutView",
            "align_content": null,
            "align_items": null,
            "align_self": null,
            "border": null,
            "bottom": null,
            "display": null,
            "flex": null,
            "flex_flow": null,
            "grid_area": null,
            "grid_auto_columns": null,
            "grid_auto_flow": null,
            "grid_auto_rows": null,
            "grid_column": null,
            "grid_gap": null,
            "grid_row": null,
            "grid_template_areas": null,
            "grid_template_columns": null,
            "grid_template_rows": null,
            "height": null,
            "justify_content": null,
            "justify_items": null,
            "left": null,
            "margin": null,
            "max_height": null,
            "max_width": null,
            "min_height": null,
            "min_width": null,
            "object_fit": null,
            "object_position": null,
            "order": null,
            "overflow": null,
            "overflow_x": null,
            "overflow_y": null,
            "padding": null,
            "right": null,
            "top": null,
            "visibility": null,
            "width": "50%"
          }
        },
        "4a0f5f6b6c0f4b01a7b231aa31e9831b": {
          "model_module": "@jupyter-widgets/controls",
          "model_name": "DescriptionStyleModel",
          "model_module_version": "1.5.0",
          "state": {
            "_model_module": "@jupyter-widgets/controls",
            "_model_module_version": "1.5.0",
            "_model_name": "DescriptionStyleModel",
            "_view_count": null,
            "_view_module": "@jupyter-widgets/base",
            "_view_module_version": "1.2.0",
            "_view_name": "StyleView",
            "description_width": ""
          }
        },
        "0806d768792a4c6e8a9d4611055e7a56": {
          "model_module": "@jupyter-widgets/controls",
          "model_name": "FloatTextModel",
          "model_module_version": "1.5.0",
          "state": {
            "_dom_classes": [],
            "_model_module": "@jupyter-widgets/controls",
            "_model_module_version": "1.5.0",
            "_model_name": "FloatTextModel",
            "_view_count": null,
            "_view_module": "@jupyter-widgets/controls",
            "_view_module_version": "1.5.0",
            "_view_name": "FloatTextView",
            "continuous_update": false,
            "description": "Low",
            "description_tooltip": null,
            "disabled": false,
            "layout": "IPY_MODEL_f83dfed173e047bfbd9a70570b910965",
            "step": null,
            "style": "IPY_MODEL_cba9bedc33a44961b46f9c08a44e7858",
            "value": 0
          }
        },
        "f83dfed173e047bfbd9a70570b910965": {
          "model_module": "@jupyter-widgets/base",
          "model_name": "LayoutModel",
          "model_module_version": "1.2.0",
          "state": {
            "_model_module": "@jupyter-widgets/base",
            "_model_module_version": "1.2.0",
            "_model_name": "LayoutModel",
            "_view_count": null,
            "_view_module": "@jupyter-widgets/base",
            "_view_module_version": "1.2.0",
            "_view_name": "LayoutView",
            "align_content": null,
            "align_items": null,
            "align_self": null,
            "border": null,
            "bottom": null,
            "display": null,
            "flex": null,
            "flex_flow": null,
            "grid_area": null,
            "grid_auto_columns": null,
            "grid_auto_flow": null,
            "grid_auto_rows": null,
            "grid_column": null,
            "grid_gap": null,
            "grid_row": null,
            "grid_template_areas": null,
            "grid_template_columns": null,
            "grid_template_rows": null,
            "height": null,
            "justify_content": null,
            "justify_items": null,
            "left": null,
            "margin": null,
            "max_height": null,
            "max_width": null,
            "min_height": null,
            "min_width": null,
            "object_fit": null,
            "object_position": null,
            "order": null,
            "overflow": null,
            "overflow_x": null,
            "overflow_y": null,
            "padding": null,
            "right": null,
            "top": null,
            "visibility": null,
            "width": "50%"
          }
        },
        "cba9bedc33a44961b46f9c08a44e7858": {
          "model_module": "@jupyter-widgets/controls",
          "model_name": "DescriptionStyleModel",
          "model_module_version": "1.5.0",
          "state": {
            "_model_module": "@jupyter-widgets/controls",
            "_model_module_version": "1.5.0",
            "_model_name": "DescriptionStyleModel",
            "_view_count": null,
            "_view_module": "@jupyter-widgets/base",
            "_view_module_version": "1.2.0",
            "_view_name": "StyleView",
            "description_width": ""
          }
        },
        "8c100abfcf7f40f79a8b0b6ef8b0212c": {
          "model_module": "@jupyter-widgets/controls",
          "model_name": "FloatTextModel",
          "model_module_version": "1.5.0",
          "state": {
            "_dom_classes": [],
            "_model_module": "@jupyter-widgets/controls",
            "_model_module_version": "1.5.0",
            "_model_name": "FloatTextModel",
            "_view_count": null,
            "_view_module": "@jupyter-widgets/controls",
            "_view_module_version": "1.5.0",
            "_view_name": "FloatTextView",
            "continuous_update": false,
            "description": "Close",
            "description_tooltip": null,
            "disabled": false,
            "layout": "IPY_MODEL_9073420df5794584bfa3d789222649b1",
            "step": null,
            "style": "IPY_MODEL_bc9b67ad2c8b4d76b5af9307ab4ac5b0",
            "value": 0
          }
        },
        "9073420df5794584bfa3d789222649b1": {
          "model_module": "@jupyter-widgets/base",
          "model_name": "LayoutModel",
          "model_module_version": "1.2.0",
          "state": {
            "_model_module": "@jupyter-widgets/base",
            "_model_module_version": "1.2.0",
            "_model_name": "LayoutModel",
            "_view_count": null,
            "_view_module": "@jupyter-widgets/base",
            "_view_module_version": "1.2.0",
            "_view_name": "LayoutView",
            "align_content": null,
            "align_items": null,
            "align_self": null,
            "border": null,
            "bottom": null,
            "display": null,
            "flex": null,
            "flex_flow": null,
            "grid_area": null,
            "grid_auto_columns": null,
            "grid_auto_flow": null,
            "grid_auto_rows": null,
            "grid_column": null,
            "grid_gap": null,
            "grid_row": null,
            "grid_template_areas": null,
            "grid_template_columns": null,
            "grid_template_rows": null,
            "height": null,
            "justify_content": null,
            "justify_items": null,
            "left": null,
            "margin": null,
            "max_height": null,
            "max_width": null,
            "min_height": null,
            "min_width": null,
            "object_fit": null,
            "object_position": null,
            "order": null,
            "overflow": null,
            "overflow_x": null,
            "overflow_y": null,
            "padding": null,
            "right": null,
            "top": null,
            "visibility": null,
            "width": "50%"
          }
        },
        "bc9b67ad2c8b4d76b5af9307ab4ac5b0": {
          "model_module": "@jupyter-widgets/controls",
          "model_name": "DescriptionStyleModel",
          "model_module_version": "1.5.0",
          "state": {
            "_model_module": "@jupyter-widgets/controls",
            "_model_module_version": "1.5.0",
            "_model_name": "DescriptionStyleModel",
            "_view_count": null,
            "_view_module": "@jupyter-widgets/base",
            "_view_module_version": "1.2.0",
            "_view_name": "StyleView",
            "description_width": ""
          }
        },
        "f960809271f64032ba33527cc069132a": {
          "model_module": "@jupyter-widgets/controls",
          "model_name": "FloatTextModel",
          "model_module_version": "1.5.0",
          "state": {
            "_dom_classes": [],
            "_model_module": "@jupyter-widgets/controls",
            "_model_module_version": "1.5.0",
            "_model_name": "FloatTextModel",
            "_view_count": null,
            "_view_module": "@jupyter-widgets/controls",
            "_view_module_version": "1.5.0",
            "_view_name": "FloatTextView",
            "continuous_update": false,
            "description": "Adj Close",
            "description_tooltip": null,
            "disabled": false,
            "layout": "IPY_MODEL_432319f056a74d5eb6c69c8996216d36",
            "step": null,
            "style": "IPY_MODEL_3979404407644c25943d7c7b426ca3ea",
            "value": 0
          }
        },
        "432319f056a74d5eb6c69c8996216d36": {
          "model_module": "@jupyter-widgets/base",
          "model_name": "LayoutModel",
          "model_module_version": "1.2.0",
          "state": {
            "_model_module": "@jupyter-widgets/base",
            "_model_module_version": "1.2.0",
            "_model_name": "LayoutModel",
            "_view_count": null,
            "_view_module": "@jupyter-widgets/base",
            "_view_module_version": "1.2.0",
            "_view_name": "LayoutView",
            "align_content": null,
            "align_items": null,
            "align_self": null,
            "border": null,
            "bottom": null,
            "display": null,
            "flex": null,
            "flex_flow": null,
            "grid_area": null,
            "grid_auto_columns": null,
            "grid_auto_flow": null,
            "grid_auto_rows": null,
            "grid_column": null,
            "grid_gap": null,
            "grid_row": null,
            "grid_template_areas": null,
            "grid_template_columns": null,
            "grid_template_rows": null,
            "height": null,
            "justify_content": null,
            "justify_items": null,
            "left": null,
            "margin": null,
            "max_height": null,
            "max_width": null,
            "min_height": null,
            "min_width": null,
            "object_fit": null,
            "object_position": null,
            "order": null,
            "overflow": null,
            "overflow_x": null,
            "overflow_y": null,
            "padding": null,
            "right": null,
            "top": null,
            "visibility": null,
            "width": "50%"
          }
        },
        "3979404407644c25943d7c7b426ca3ea": {
          "model_module": "@jupyter-widgets/controls",
          "model_name": "DescriptionStyleModel",
          "model_module_version": "1.5.0",
          "state": {
            "_model_module": "@jupyter-widgets/controls",
            "_model_module_version": "1.5.0",
            "_model_name": "DescriptionStyleModel",
            "_view_count": null,
            "_view_module": "@jupyter-widgets/base",
            "_view_module_version": "1.2.0",
            "_view_name": "StyleView",
            "description_width": ""
          }
        },
        "bf18fdc515724019b005e4e5f02dfeca": {
          "model_module": "@jupyter-widgets/controls",
          "model_name": "ButtonModel",
          "model_module_version": "1.5.0",
          "state": {
            "_dom_classes": [],
            "_model_module": "@jupyter-widgets/controls",
            "_model_module_version": "1.5.0",
            "_model_name": "ButtonModel",
            "_view_count": null,
            "_view_module": "@jupyter-widgets/controls",
            "_view_module_version": "1.5.0",
            "_view_name": "ButtonView",
            "button_style": "",
            "description": "Predict Target Value",
            "disabled": false,
            "icon": "",
            "layout": "IPY_MODEL_f0347233e4844b5aa7a86a4d81774cd8",
            "style": "IPY_MODEL_4515d6a4574046b58e1219313084437e",
            "tooltip": ""
          }
        },
        "f0347233e4844b5aa7a86a4d81774cd8": {
          "model_module": "@jupyter-widgets/base",
          "model_name": "LayoutModel",
          "model_module_version": "1.2.0",
          "state": {
            "_model_module": "@jupyter-widgets/base",
            "_model_module_version": "1.2.0",
            "_model_name": "LayoutModel",
            "_view_count": null,
            "_view_module": "@jupyter-widgets/base",
            "_view_module_version": "1.2.0",
            "_view_name": "LayoutView",
            "align_content": null,
            "align_items": null,
            "align_self": null,
            "border": null,
            "bottom": null,
            "display": null,
            "flex": null,
            "flex_flow": null,
            "grid_area": null,
            "grid_auto_columns": null,
            "grid_auto_flow": null,
            "grid_auto_rows": null,
            "grid_column": null,
            "grid_gap": null,
            "grid_row": null,
            "grid_template_areas": null,
            "grid_template_columns": null,
            "grid_template_rows": null,
            "height": null,
            "justify_content": null,
            "justify_items": null,
            "left": null,
            "margin": null,
            "max_height": null,
            "max_width": null,
            "min_height": null,
            "min_width": null,
            "object_fit": null,
            "object_position": null,
            "order": null,
            "overflow": null,
            "overflow_x": null,
            "overflow_y": null,
            "padding": null,
            "right": null,
            "top": null,
            "visibility": null,
            "width": null
          }
        },
        "4515d6a4574046b58e1219313084437e": {
          "model_module": "@jupyter-widgets/controls",
          "model_name": "ButtonStyleModel",
          "model_module_version": "1.5.0",
          "state": {
            "_model_module": "@jupyter-widgets/controls",
            "_model_module_version": "1.5.0",
            "_model_name": "ButtonStyleModel",
            "_view_count": null,
            "_view_module": "@jupyter-widgets/base",
            "_view_module_version": "1.2.0",
            "_view_name": "StyleView",
            "button_color": null,
            "font_weight": ""
          }
        }
      }
    }
  },
  "cells": [
    {
      "cell_type": "code",
      "source": [
        "import pandas as pd\n",
        "from sklearn.model_selection import train_test_split\n",
        "from sklearn.svm import SVR  # Change to SVR for regression\n",
        "from sklearn.metrics import mean_squared_error  # Use mean squared error for regression\n",
        "import ipywidgets as widgets\n",
        "from IPython.display import display\n",
        "import zipfile\n",
        "import os\n",
        "\n",
        "# Unzip the dataset\n",
        "with zipfile.ZipFile('/content/stock(stml).zip', 'r') as zip_ref:\n",
        "    zip_ref.extractall('/content')\n",
        "\n",
        "# Load the dataset\n",
        "data = pd.read_csv('/content/stock(stml).zip')\n",
        "data['Ticker'].replace({'AAPL': 0, 'GOOG': 1,'MSFT':2,'NFLX':3}, inplace=True)\n",
        "print(data)\n",
        "data=data.drop(columns='Date',axis=1)\n",
        "print(data)\n",
        "# Split the data into features (X) and target (y)\n",
        "X = data.drop('Volume', axis=1)  # Adjust 'target_column_name' to your target column\n",
        "y = data['Volume']\n",
        "# Split the dataset into training and testing sets\n",
        "X_train, X_test, y_train, y_test = train_test_split(X, y, test_size=0.2, random_state=42)\n",
        "\n",
        "# Train a SVM regression model\n",
        "model = SVR()  # Use SVR for regression\n",
        "model.fit(X_train, y_train)\n",
        "\n",
        "# Evaluate the model using mean squared error\n",
        "y_pred = model.predict(X_test)\n",
        "mse = mean_squared_error(y_test, y_pred)\n",
        "print('Mean Squared Error:', mse)\n",
        "\n",
        "# Function to predict target using the trained model\n",
        "def predict_target(features):\n",
        "    prediction = model.predict([features])\n",
        "    return prediction  # Predicted target value\n",
        "\n",
        "# Create input widgets for all features\n",
        "input_widgets = [widgets.FloatText(description=feature, layout=widgets.Layout(width='50%')) for feature in X.columns]\n",
        "\n",
        "# Display input widgets\n",
        "display(*input_widgets)\n",
        "\n",
        "# Function to handle prediction when button is clicked\n",
        "def on_button_click(b):\n",
        "    user_features = [widget.value for widget in input_widgets]\n",
        "    prediction = predict_target(user_features)\n",
        "    print(\"Predicted target value:\", prediction)\n",
        "\n",
        "# Create a button for making predictions\n",
        "button = widgets.Button(description=\"Predict Target Value\")\n",
        "button.on_click(on_button_click)\n",
        "display(button)"
      ],
      "metadata": {
        "id": "J6pPMnv-2czZ",
        "colab": {
          "base_uri": "https://localhost:8080/",
          "height": 1000,
          "referenced_widgets": [
            "035172c3959d4dc0aafab270af4c81eb",
            "99e0e6bd0537470aa176fed5d1396ccd",
            "bba7a2022ed8414e87418d6c33ff897d",
            "965e7bbf575441899e392e6f6595f50c",
            "20484090c84a40b1b6eed87856b4168c",
            "73240ac3d3d84303891a69865eccf06d",
            "4e31d81cede84590beeddfbd6ad4c5c5",
            "f7c50bd1120b45129eb50e884f5be5b1",
            "4a0f5f6b6c0f4b01a7b231aa31e9831b",
            "0806d768792a4c6e8a9d4611055e7a56",
            "f83dfed173e047bfbd9a70570b910965",
            "cba9bedc33a44961b46f9c08a44e7858",
            "8c100abfcf7f40f79a8b0b6ef8b0212c",
            "9073420df5794584bfa3d789222649b1",
            "bc9b67ad2c8b4d76b5af9307ab4ac5b0",
            "f960809271f64032ba33527cc069132a",
            "432319f056a74d5eb6c69c8996216d36",
            "3979404407644c25943d7c7b426ca3ea",
            "bf18fdc515724019b005e4e5f02dfeca",
            "f0347233e4844b5aa7a86a4d81774cd8",
            "4515d6a4574046b58e1219313084437e"
          ]
        },
        "outputId": "7c3b0c2e-0ab4-4ecb-d778-86662e5725d6"
      },
      "execution_count": 11,
      "outputs": [
        {
          "output_type": "stream",
          "name": "stdout",
          "text": [
            "     Ticker        Date        Open        High         Low       Close  \\\n",
            "0         0  2023-02-07  150.639999  155.229996  150.639999  154.649994   \n",
            "1         0  2023-02-08  153.880005  154.580002  151.169998  151.919998   \n",
            "2         0  2023-02-09  153.779999  154.330002  150.419998  150.869995   \n",
            "3         0  2023-02-10  149.460007  151.339996  149.220001  151.009995   \n",
            "4         0  2023-02-13  150.949997  154.259995  150.919998  153.850006   \n",
            "..      ...         ...         ...         ...         ...         ...   \n",
            "243       1  2023-05-01  107.720001  108.680000  107.500000  107.709999   \n",
            "244       1  2023-05-02  107.660004  107.730003  104.500000  105.980003   \n",
            "245       1  2023-05-03  106.220001  108.129997  105.620003  106.120003   \n",
            "246       1  2023-05-04  106.160004  106.300003  104.699997  105.209999   \n",
            "247       1  2023-05-05  105.320000  106.440002  104.738998  106.214996   \n",
            "\n",
            "      Adj Close    Volume  \n",
            "0    154.414230  83322600  \n",
            "1    151.688400  64120100  \n",
            "2    150.639999  56007100  \n",
            "3    151.009995  57450700  \n",
            "4    153.850006  62199000  \n",
            "..          ...       ...  \n",
            "243  107.709999  20926300  \n",
            "244  105.980003  20343100  \n",
            "245  106.120003  17116300  \n",
            "246  105.209999  19780600  \n",
            "247  106.214996  20705300  \n",
            "\n",
            "[248 rows x 8 columns]\n",
            "     Ticker        Open        High         Low       Close   Adj Close  \\\n",
            "0         0  150.639999  155.229996  150.639999  154.649994  154.414230   \n",
            "1         0  153.880005  154.580002  151.169998  151.919998  151.688400   \n",
            "2         0  153.779999  154.330002  150.419998  150.869995  150.639999   \n",
            "3         0  149.460007  151.339996  149.220001  151.009995  151.009995   \n",
            "4         0  150.949997  154.259995  150.919998  153.850006  153.850006   \n",
            "..      ...         ...         ...         ...         ...         ...   \n",
            "243       1  107.720001  108.680000  107.500000  107.709999  107.709999   \n",
            "244       1  107.660004  107.730003  104.500000  105.980003  105.980003   \n",
            "245       1  106.220001  108.129997  105.620003  106.120003  106.120003   \n",
            "246       1  106.160004  106.300003  104.699997  105.209999  105.209999   \n",
            "247       1  105.320000  106.440002  104.738998  106.214996  106.214996   \n",
            "\n",
            "       Volume  \n",
            "0    83322600  \n",
            "1    64120100  \n",
            "2    56007100  \n",
            "3    57450700  \n",
            "4    62199000  \n",
            "..        ...  \n",
            "243  20926300  \n",
            "244  20343100  \n",
            "245  17116300  \n",
            "246  19780600  \n",
            "247  20705300  \n",
            "\n",
            "[248 rows x 7 columns]\n",
            "Mean Squared Error: 582944175815936.5\n"
          ]
        },
        {
          "output_type": "display_data",
          "data": {
            "text/plain": [
              "FloatText(value=0.0, description='Ticker', layout=Layout(width='50%'))"
            ],
            "application/vnd.jupyter.widget-view+json": {
              "version_major": 2,
              "version_minor": 0,
              "model_id": "035172c3959d4dc0aafab270af4c81eb"
            }
          },
          "metadata": {}
        },
        {
          "output_type": "display_data",
          "data": {
            "text/plain": [
              "FloatText(value=0.0, description='Open', layout=Layout(width='50%'))"
            ],
            "application/vnd.jupyter.widget-view+json": {
              "version_major": 2,
              "version_minor": 0,
              "model_id": "965e7bbf575441899e392e6f6595f50c"
            }
          },
          "metadata": {}
        },
        {
          "output_type": "display_data",
          "data": {
            "text/plain": [
              "FloatText(value=0.0, description='High', layout=Layout(width='50%'))"
            ],
            "application/vnd.jupyter.widget-view+json": {
              "version_major": 2,
              "version_minor": 0,
              "model_id": "4e31d81cede84590beeddfbd6ad4c5c5"
            }
          },
          "metadata": {}
        },
        {
          "output_type": "display_data",
          "data": {
            "text/plain": [
              "FloatText(value=0.0, description='Low', layout=Layout(width='50%'))"
            ],
            "application/vnd.jupyter.widget-view+json": {
              "version_major": 2,
              "version_minor": 0,
              "model_id": "0806d768792a4c6e8a9d4611055e7a56"
            }
          },
          "metadata": {}
        },
        {
          "output_type": "display_data",
          "data": {
            "text/plain": [
              "FloatText(value=0.0, description='Close', layout=Layout(width='50%'))"
            ],
            "application/vnd.jupyter.widget-view+json": {
              "version_major": 2,
              "version_minor": 0,
              "model_id": "8c100abfcf7f40f79a8b0b6ef8b0212c"
            }
          },
          "metadata": {}
        },
        {
          "output_type": "display_data",
          "data": {
            "text/plain": [
              "FloatText(value=0.0, description='Adj Close', layout=Layout(width='50%'))"
            ],
            "application/vnd.jupyter.widget-view+json": {
              "version_major": 2,
              "version_minor": 0,
              "model_id": "f960809271f64032ba33527cc069132a"
            }
          },
          "metadata": {}
        },
        {
          "output_type": "display_data",
          "data": {
            "text/plain": [
              "Button(description='Predict Target Value', style=ButtonStyle())"
            ],
            "application/vnd.jupyter.widget-view+json": {
              "version_major": 2,
              "version_minor": 0,
              "model_id": "bf18fdc515724019b005e4e5f02dfeca"
            }
          },
          "metadata": {}
        },
        {
          "output_type": "stream",
          "name": "stdout",
          "text": [
            "Predicted target value: [27340038.84895647]\n"
          ]
        },
        {
          "output_type": "stream",
          "name": "stderr",
          "text": [
            "/usr/local/lib/python3.10/dist-packages/sklearn/base.py:439: UserWarning: X does not have valid feature names, but SVR was fitted with feature names\n",
            "  warnings.warn(\n"
          ]
        },
        {
          "output_type": "stream",
          "name": "stdout",
          "text": [
            "Predicted target value: [27340038.84895647]\n"
          ]
        },
        {
          "output_type": "stream",
          "name": "stderr",
          "text": [
            "/usr/local/lib/python3.10/dist-packages/sklearn/base.py:439: UserWarning: X does not have valid feature names, but SVR was fitted with feature names\n",
            "  warnings.warn(\n"
          ]
        }
      ]
    },
    {
      "cell_type": "code",
      "source": [],
      "metadata": {
        "id": "OxzHeU6BmBEK"
      },
      "execution_count": null,
      "outputs": []
    }
  ]
}